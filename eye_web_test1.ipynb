{
 "cells": [
  {
   "cell_type": "code",
   "execution_count": null,
   "metadata": {},
   "outputs": [],
   "source": []
  },
  {
   "cell_type": "code",
   "execution_count": null,
   "metadata": {},
   "outputs": [],
   "source": [
    "result = eyecolor_convert.eyecolor_make('static/uploads/'+filename3,[50,50,50])"
   ]
  },
  {
   "cell_type": "code",
   "execution_count": null,
   "metadata": {},
   "outputs": [],
   "source": [
    "cv2.imshow('a',result)\n",
    "cv2.waitKey(0)\n",
    "cv2.destroyAllWindows()"
   ]
  },
  {
   "cell_type": "code",
   "execution_count": null,
   "metadata": {},
   "outputs": [
    {
     "name": "stdout",
     "output_type": "stream",
     "text": [
      " * Serving Flask app \"__main__\" (lazy loading)\n",
      " * Environment: production\n",
      "   WARNING: This is a development server. Do not use it in a production deployment.\n",
      "   Use a production WSGI server instead.\n",
      " * Debug mode: off\n"
     ]
    },
    {
     "name": "stderr",
     "output_type": "stream",
     "text": [
      " * Running on http://127.0.0.1:5000/ (Press CTRL+C to quit)\n",
      "127.0.0.1 - - [08/Sep/2020 16:04:11] \"\u001b[37mGET / HTTP/1.1\u001b[0m\" 200 -\n",
      "127.0.0.1 - - [08/Sep/2020 16:04:11] \"\u001b[33mGET /style.css HTTP/1.1\u001b[0m\" 404 -\n",
      "127.0.0.1 - - [08/Sep/2020 16:04:11] \"\u001b[33mGET /display/ HTTP/1.1\u001b[0m\" 404 -\n",
      "[2020-09-08 16:04:11,442] ERROR in app: Exception on /video_feed3 [GET]\n",
      "Traceback (most recent call last):\n",
      "  File \"C:\\Users\\jkpar\\.conda\\envs\\pytorch\\lib\\site-packages\\flask\\app.py\", line 2447, in wsgi_app\n",
      "    response = self.full_dispatch_request()\n",
      "  File \"C:\\Users\\jkpar\\.conda\\envs\\pytorch\\lib\\site-packages\\flask\\app.py\", line 1952, in full_dispatch_request\n",
      "    rv = self.handle_user_exception(e)\n",
      "  File \"C:\\Users\\jkpar\\.conda\\envs\\pytorch\\lib\\site-packages\\flask\\app.py\", line 1821, in handle_user_exception\n",
      "    reraise(exc_type, exc_value, tb)\n",
      "  File \"C:\\Users\\jkpar\\.conda\\envs\\pytorch\\lib\\site-packages\\flask\\_compat.py\", line 39, in reraise\n",
      "    raise value\n",
      "  File \"C:\\Users\\jkpar\\.conda\\envs\\pytorch\\lib\\site-packages\\flask\\app.py\", line 1950, in full_dispatch_request\n",
      "    rv = self.dispatch_request()\n",
      "  File \"C:\\Users\\jkpar\\.conda\\envs\\pytorch\\lib\\site-packages\\flask\\app.py\", line 1936, in dispatch_request\n",
      "    return self.view_functions[rule.endpoint](**req.view_args)\n",
      "  File \"<ipython-input-1-7102a6840bc0>\", line 71, in video_feed3\n",
      "    return Response(eyecolor('static/uploads/'+filename3,[BB,GG,RR]),\n",
      "NameError: name 'filename3' is not defined\n",
      "127.0.0.1 - - [08/Sep/2020 16:04:11] \"\u001b[35m\u001b[1mGET /video_feed3 HTTP/1.1\u001b[0m\" 500 -\n",
      "127.0.0.1 - - [08/Sep/2020 16:05:50] \"\u001b[37mPOST / HTTP/1.1\u001b[0m\" 200 -\n",
      "127.0.0.1 - - [08/Sep/2020 16:05:50] \"\u001b[33mGET /style.css HTTP/1.1\u001b[0m\" 404 -\n",
      "127.0.0.1 - - [08/Sep/2020 16:06:00] \"\u001b[37mGET /video_feed3 HTTP/1.1\u001b[0m\" 200 -\n"
     ]
    }
   ],
   "source": [
    "import eyecolor_convert,cv2\n",
    "import dlib\n",
    "import os\n",
    "\n",
    "from flask import Flask, flash, Response, request, redirect, url_for, render_template\n",
    "\n",
    "from werkzeug.utils import secure_filename\n",
    "\n",
    "\n",
    "ALLOWED_EXTENSIONS = set(['png', 'jpg', 'jpeg', 'gif'])\n",
    "\n",
    "app = Flask(__name__)\n",
    "\n",
    "UPLOAD_FOLDER = 'static/uploads/'\n",
    "\n",
    "app = Flask(__name__)\n",
    "app.secret_key = \"secret key\"\n",
    "app.config['UPLOAD_FOLDER'] = UPLOAD_FOLDER\n",
    "app.config['MAX_CONTENT_LENGTH'] = 16 * 1024 * 1024\n",
    "\n",
    "def eyecolor(file_name,color):\n",
    "    eye_result = eyecolor_convert.eyecolor_make(file_name,color)\n",
    "    ret, buffer = cv2.imencode('.jpg', eye_result)\n",
    "    frame = buffer.tobytes()\n",
    "    yield (b'--frame\\r\\n'\n",
    "               b'Content-Type: image/jpeg\\r\\n\\r\\n' + frame + b'\\r\\n')  # concat frame one by one and show result\n",
    "\n",
    "\n",
    "def allowed_file(filename):\n",
    "    return '.' in filename and filename.rsplit('.', 1)[1].lower() in ALLOWED_EXTENSIONS\n",
    "\n",
    "\n",
    "@app.route('/')\n",
    "def upload_form():\n",
    "    return render_template('image_eye.html')\n",
    "\n",
    "\n",
    "@app.route('/', methods=['POST'])\n",
    "def upload_image():\n",
    "    if 'file' not in request.files or 'file1' not in request.files or 'file2' not in request.files:\n",
    "        flash('No file part')\n",
    "    file3 = request.files['file3']\n",
    "    if file3.filename == '':#or file1.filename =='' or file2.filename ==''or file3.filename =='':\n",
    "        flash('No image selected for uploading')\n",
    "        return redirect(request.url)\n",
    "    if file3 and allowed_file(file3.filename):# and file1 and allowed_file(file1.filename) and file2 and allowed_file(file2.filename) and file3 and allowed_file(file3.filename):\n",
    "        global filename3\n",
    "        filename3 = secure_filename(file3.filename)\n",
    "        global RR\n",
    "        global GG\n",
    "        global BB\n",
    "        RR = request.form['R']\n",
    "        GG= request.form['G']\n",
    "        BB= request.form['B']\n",
    "        \n",
    "        file3.save(os.path.join(app.config['UPLOAD_FOLDER'], filename3))\n",
    "        #print('upload_image filename: ' + filename)\n",
    "        flash('Image successfully uploaded and displayed')\n",
    "        return render_template('image_eye.html', filename3=filename3)\n",
    "\n",
    "    \n",
    "@app.route('/display/<filename3>')\n",
    "def video_feed0(filename3):\n",
    "    \"\"\"Video streaming route. Put this in the src attribute of an img tag.\"\"\"\n",
    "    return redirect(url_for('static', filename='uploads/' + filename3), code=301)\n",
    "\n",
    "\n",
    "@app.route('/video_feed3') #align\n",
    "def video_feed3():\n",
    "    \"\"\"Video streaming route. Put this in the src attribute of an img tag.\"\"\"\n",
    "    return Response(eyecolor('static/uploads/'+filename3,[BB,GG,RR]),\n",
    "                    mimetype='multipart/x-mixed-replace; boundary=frame')\n",
    "\n",
    "\n",
    "\n",
    "if __name__ == \"__main__\":\n",
    "    app.run()#host=\"192.168.123.109\",port=8888)"
   ]
  },
  {
   "cell_type": "code",
   "execution_count": null,
   "metadata": {},
   "outputs": [],
   "source": []
  },
  {
   "cell_type": "code",
   "execution_count": null,
   "metadata": {},
   "outputs": [],
   "source": []
  }
 ],
 "metadata": {
  "kernelspec": {
   "display_name": "PyTorch",
   "language": "python",
   "name": "pytorch"
  },
  "language_info": {
   "codemirror_mode": {
    "name": "ipython",
    "version": 3
   },
   "file_extension": ".py",
   "mimetype": "text/x-python",
   "name": "python",
   "nbconvert_exporter": "python",
   "pygments_lexer": "ipython3",
   "version": "3.8.3"
  }
 },
 "nbformat": 4,
 "nbformat_minor": 4
}
